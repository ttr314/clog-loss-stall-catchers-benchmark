{
  "nbformat": 4,
  "nbformat_minor": 0,
  "metadata": {
    "colab": {
      "name": "StClair_prep.ipynb",
      "provenance": [],
      "include_colab_link": true
    },
    "kernelspec": {
      "name": "python3",
      "display_name": "Python 3"
    },
    "language_info": {
      "name": "python"
    }
  },
  "cells": [
    {
      "cell_type": "markdown",
      "metadata": {
        "id": "view-in-github",
        "colab_type": "text"
      },
      "source": [
        "<a href=\"https://colab.research.google.com/github/ttr314/clog-loss-stall-catchers-benchmark/blob/master/StClair_prep.ipynb\" target=\"_parent\"><img src=\"https://colab.research.google.com/assets/colab-badge.svg\" alt=\"Open In Colab\"/></a>"
      ]
    },
    {
      "cell_type": "markdown",
      "metadata": {
        "id": "eljuZwrwgwDN"
      },
      "source": [
        "\n",
        "The Presentation topic will be:\n",
        " \n",
        "Using the most applicable software tools for this project, please complete the following tasks and be prepared to present on your steps and findings: \n",
        "\n",
        "1.   Open the MobData.txt file attached and import to prepare and clean the data. Once you have finished preparing the data, save your file as mob####.CSV. Explain how you prepared or cleaned the data. \n",
        "2. Create a dashboard using the CSV file you created in part 1.  The dashboard should show a summary with different charts using the columns below. The dashboard should clearly display what are the most common types of vehicles, when is traffic the heaviest, and what direction are vehicles travelling.  What steps did you use to create the dashboard? \n",
        "*   Timestamp\n",
        "*   vehicleType \n",
        "*    entrance  \n",
        "*   exit\n",
        "*    Qty \n",
        "3. Create an algorithm that can be used to predict traffic volumes based on the data provided in part 1. \n",
        "\n",
        "\n",
        "\n",
        "\n",
        "\n",
        "\n"
      ]
    },
    {
      "cell_type": "markdown",
      "metadata": {
        "id": "nmKf-SRZwNiy"
      },
      "source": [
        "\n",
        "\n",
        "---\n",
        "\n",
        "\n",
        "\n",
        "---\n",
        "\n"
      ]
    },
    {
      "cell_type": "markdown",
      "metadata": {
        "id": "jZ9JHJeIwP_Y"
      },
      "source": [
        "**Preview text file**"
      ]
    },
    {
      "cell_type": "code",
      "metadata": {
        "colab": {
          "base_uri": "https://localhost:8080/"
        },
        "id": "oZvGc61_wAWT",
        "outputId": "0b12b3ec-2ed1-4c8b-d526-0c8fb80d2822"
      },
      "source": [
        "# Preview text file\n",
        "with open('Mobdata.txt') as f:\n",
        "    lines = f.read(150)\n",
        "print(lines)"
      ],
      "execution_count": null,
      "outputs": [
        {
          "output_type": "stream",
          "text": [
            "{\"intersectionId\":1,\"intersectionDescription\":\"Dorchester Road and Huron Church Road\",\"traffic\":[{\"timeStamp\":\"2021-06-27T00:00:00\",\"vehicleType\":\"Art\n"
          ],
          "name": "stdout"
        }
      ]
    },
    {
      "cell_type": "markdown",
      "metadata": {
        "id": "gA-sMEO2wWU6"
      },
      "source": [
        "*   Preview of file shows data is likely stored in JSON format.\n",
        "*   Will import data as JSON into python dataframe"
      ]
    },
    {
      "cell_type": "markdown",
      "metadata": {
        "id": "MOBsNXyy0n5m"
      },
      "source": [
        "**Import file as JSON and preview**"
      ]
    },
    {
      "cell_type": "code",
      "metadata": {
        "id": "ttabHfXigoVI"
      },
      "source": [
        "# Set up python workspace including json package \n",
        "import pandas as pd\n",
        "import json  "
      ],
      "execution_count": null,
      "outputs": []
    },
    {
      "cell_type": "code",
      "metadata": {
        "id": "86FiIYonftjn"
      },
      "source": [
        "# Import text file\n",
        "df = pd.read_json('Mobdata.txt')"
      ],
      "execution_count": null,
      "outputs": []
    },
    {
      "cell_type": "code",
      "metadata": {
        "colab": {
          "base_uri": "https://localhost:8080/",
          "height": 142
        },
        "id": "dnKYuJkhf694",
        "outputId": "5104701a-ae0e-4a43-9c8b-40f86d80be80"
      },
      "source": [
        "# Preview imported file\n",
        "df.head(3)"
      ],
      "execution_count": null,
      "outputs": [
        {
          "output_type": "execute_result",
          "data": {
            "text/html": [
              "<div>\n",
              "<style scoped>\n",
              "    .dataframe tbody tr th:only-of-type {\n",
              "        vertical-align: middle;\n",
              "    }\n",
              "\n",
              "    .dataframe tbody tr th {\n",
              "        vertical-align: top;\n",
              "    }\n",
              "\n",
              "    .dataframe thead th {\n",
              "        text-align: right;\n",
              "    }\n",
              "</style>\n",
              "<table border=\"1\" class=\"dataframe\">\n",
              "  <thead>\n",
              "    <tr style=\"text-align: right;\">\n",
              "      <th></th>\n",
              "      <th>intersectionId</th>\n",
              "      <th>intersectionDescription</th>\n",
              "      <th>traffic</th>\n",
              "    </tr>\n",
              "  </thead>\n",
              "  <tbody>\n",
              "    <tr>\n",
              "      <th>0</th>\n",
              "      <td>1</td>\n",
              "      <td>Dorchester Road and Huron Church Road</td>\n",
              "      <td>{'timeStamp': '2021-06-27T00:00:00', 'vehicleT...</td>\n",
              "    </tr>\n",
              "    <tr>\n",
              "      <th>1</th>\n",
              "      <td>1</td>\n",
              "      <td>Dorchester Road and Huron Church Road</td>\n",
              "      <td>{'timeStamp': '2021-06-27T00:00:00', 'vehicleT...</td>\n",
              "    </tr>\n",
              "    <tr>\n",
              "      <th>2</th>\n",
              "      <td>1</td>\n",
              "      <td>Dorchester Road and Huron Church Road</td>\n",
              "      <td>{'timeStamp': '2021-06-27T00:00:00', 'vehicleT...</td>\n",
              "    </tr>\n",
              "  </tbody>\n",
              "</table>\n",
              "</div>"
            ],
            "text/plain": [
              "   intersectionId  ...                                            traffic\n",
              "0               1  ...  {'timeStamp': '2021-06-27T00:00:00', 'vehicleT...\n",
              "1               1  ...  {'timeStamp': '2021-06-27T00:00:00', 'vehicleT...\n",
              "2               1  ...  {'timeStamp': '2021-06-27T00:00:00', 'vehicleT...\n",
              "\n",
              "[3 rows x 3 columns]"
            ]
          },
          "metadata": {
            "tags": []
          },
          "execution_count": 85
        }
      ]
    },
    {
      "cell_type": "markdown",
      "metadata": {
        "id": "d5gfYdldzsXv"
      },
      "source": [
        "\n",
        "\n",
        "*   After initial import as JSON, we observe last column *traffic* is nested, containing another layer of columns.\n",
        "*   Apply method to further unravel the data nested within *traffic*\n",
        "\n",
        "\n",
        "\n"
      ]
    },
    {
      "cell_type": "markdown",
      "metadata": {
        "id": "hwDe2Dv70wRy"
      },
      "source": [
        "**Additional steps with JSON import to unravel data in nested columns**"
      ]
    },
    {
      "cell_type": "code",
      "metadata": {
        "id": "wuxCVfpHfrW9"
      },
      "source": [
        "with open('Mobdata.txt','r') as f:\n",
        "    data = json.loads(f.read())\n",
        "df = pd.json_normalize(data, \\\n",
        "                            meta =['intersectionId','intersectionDescription'],\\\n",
        "                            record_path =['traffic'])"
      ],
      "execution_count": null,
      "outputs": []
    },
    {
      "cell_type": "code",
      "metadata": {
        "colab": {
          "base_uri": "https://localhost:8080/",
          "height": 142
        },
        "id": "Bi4nhmIRfNb6",
        "outputId": "0e1476c2-b702-4084-963d-6a897f3b8c9a"
      },
      "source": [
        "#preview file\n",
        "df.head(3)"
      ],
      "execution_count": null,
      "outputs": [
        {
          "output_type": "execute_result",
          "data": {
            "text/html": [
              "<div>\n",
              "<style scoped>\n",
              "    .dataframe tbody tr th:only-of-type {\n",
              "        vertical-align: middle;\n",
              "    }\n",
              "\n",
              "    .dataframe tbody tr th {\n",
              "        vertical-align: top;\n",
              "    }\n",
              "\n",
              "    .dataframe thead th {\n",
              "        text-align: right;\n",
              "    }\n",
              "</style>\n",
              "<table border=\"1\" class=\"dataframe\">\n",
              "  <thead>\n",
              "    <tr style=\"text-align: right;\">\n",
              "      <th></th>\n",
              "      <th>timeStamp</th>\n",
              "      <th>vehicleType</th>\n",
              "      <th>entrance</th>\n",
              "      <th>exit</th>\n",
              "      <th>qty</th>\n",
              "      <th>isDaylightSavingsTime</th>\n",
              "      <th>intersectionId</th>\n",
              "      <th>intersectionDescription</th>\n",
              "    </tr>\n",
              "  </thead>\n",
              "  <tbody>\n",
              "    <tr>\n",
              "      <th>0</th>\n",
              "      <td>2021-06-27T00:00:00</td>\n",
              "      <td>ArticulatedTruck</td>\n",
              "      <td>N</td>\n",
              "      <td>S</td>\n",
              "      <td>3</td>\n",
              "      <td>True</td>\n",
              "      <td>1</td>\n",
              "      <td>Dorchester Road and Huron Church Road</td>\n",
              "    </tr>\n",
              "    <tr>\n",
              "      <th>1</th>\n",
              "      <td>2021-06-27T00:00:00</td>\n",
              "      <td>Light</td>\n",
              "      <td>N</td>\n",
              "      <td>S</td>\n",
              "      <td>4</td>\n",
              "      <td>True</td>\n",
              "      <td>1</td>\n",
              "      <td>Dorchester Road and Huron Church Road</td>\n",
              "    </tr>\n",
              "    <tr>\n",
              "      <th>2</th>\n",
              "      <td>2021-06-27T00:00:00</td>\n",
              "      <td>Light</td>\n",
              "      <td>S</td>\n",
              "      <td>N</td>\n",
              "      <td>1</td>\n",
              "      <td>True</td>\n",
              "      <td>1</td>\n",
              "      <td>Dorchester Road and Huron Church Road</td>\n",
              "    </tr>\n",
              "  </tbody>\n",
              "</table>\n",
              "</div>"
            ],
            "text/plain": [
              "             timeStamp  ...                intersectionDescription\n",
              "0  2021-06-27T00:00:00  ...  Dorchester Road and Huron Church Road\n",
              "1  2021-06-27T00:00:00  ...  Dorchester Road and Huron Church Road\n",
              "2  2021-06-27T00:00:00  ...  Dorchester Road and Huron Church Road\n",
              "\n",
              "[3 rows x 8 columns]"
            ]
          },
          "metadata": {
            "tags": []
          },
          "execution_count": 87
        }
      ]
    },
    {
      "cell_type": "markdown",
      "metadata": {
        "id": "2INnKRC_1IIm"
      },
      "source": [
        "\n",
        "\n",
        "*   Import complete with one data element per column for each row\n",
        "\n"
      ]
    },
    {
      "cell_type": "markdown",
      "metadata": {
        "id": "UywbO2zd1Xx1"
      },
      "source": [
        "**Initital review of columns (Pre-clean analysis)**"
      ]
    },
    {
      "cell_type": "code",
      "metadata": {
        "colab": {
          "base_uri": "https://localhost:8080/"
        },
        "id": "Yx_vzLBbjd8Q",
        "outputId": "6bf0dae1-bece-434d-9d72-3e6c012efef6"
      },
      "source": [
        "# Distinct values by column\n",
        "for col in ['intersectionId','intersectionDescription','vehicleType','entrance','exit','isDaylightSavingsTime']:\n",
        "  print(df[col].value_counts(),'\\n\\n')"
      ],
      "execution_count": null,
      "outputs": [
        {
          "output_type": "stream",
          "text": [
            "1    6514\n",
            "Name: intersectionId, dtype: int64 \n",
            "\n",
            "\n",
            "Dorchester Road and Huron Church Road    6514\n",
            "Name: intersectionDescription, dtype: int64 \n",
            "\n",
            "\n",
            "Light               4633\n",
            "ArticulatedTruck    1731\n",
            "SingleUnitTruck       98\n",
            "Bicycle               34\n",
            "Bus                   18\n",
            "Name: vehicleType, dtype: int64 \n",
            "\n",
            "\n",
            "S    2937\n",
            "N    2250\n",
            "E     857\n",
            "W     470\n",
            "Name: entrance, dtype: int64 \n",
            "\n",
            "\n",
            "S    2538\n",
            "N    2457\n",
            "E     923\n",
            "W     596\n",
            "Name: exit, dtype: int64 \n",
            "\n",
            "\n",
            "True    6514\n",
            "Name: isDaylightSavingsTime, dtype: int64 \n",
            "\n",
            "\n"
          ],
          "name": "stdout"
        }
      ]
    },
    {
      "cell_type": "markdown",
      "metadata": {
        "id": "iHkvv2Qz1Wx8"
      },
      "source": [
        "*   Investigate column data types for further cleaning\n",
        "\n"
      ]
    },
    {
      "cell_type": "code",
      "metadata": {
        "colab": {
          "base_uri": "https://localhost:8080/"
        },
        "id": "FpfU9oN5j_zx",
        "outputId": "fd011b5d-65d9-48cc-e3ab-67bcd0205354"
      },
      "source": [
        "df.dtypes"
      ],
      "execution_count": null,
      "outputs": [
        {
          "output_type": "execute_result",
          "data": {
            "text/plain": [
              "timeStamp                  object\n",
              "vehicleType                object\n",
              "entrance                   object\n",
              "exit                       object\n",
              "qty                         int64\n",
              "isDaylightSavingsTime        bool\n",
              "intersectionId             object\n",
              "intersectionDescription    object\n",
              "dtype: object"
            ]
          },
          "metadata": {
            "tags": []
          },
          "execution_count": 89
        }
      ]
    },
    {
      "cell_type": "markdown",
      "metadata": {
        "id": "260hW67n2CLf"
      },
      "source": [
        "**Convert applicable columns to categorical** "
      ]
    },
    {
      "cell_type": "code",
      "metadata": {
        "id": "g_KLCbg2lgid"
      },
      "source": [
        "for col in [\"intersectionId\",\"intersectionDescription\", \"vehicleType\",\"entrance\",\"exit\" ]:\n",
        "  df[col] = df[col].astype('category')"
      ],
      "execution_count": null,
      "outputs": []
    },
    {
      "cell_type": "markdown",
      "metadata": {
        "id": "g9xJNiGc2P-T"
      },
      "source": [
        "**Convert \"timeStamp\" column to a pandas date-time data type**"
      ]
    },
    {
      "cell_type": "code",
      "metadata": {
        "id": "GRLX0SbEnGXe"
      },
      "source": [
        "df['timeStamp'] = pd.to_datetime(df['timeStamp']) "
      ],
      "execution_count": null,
      "outputs": []
    },
    {
      "cell_type": "markdown",
      "metadata": {
        "id": "MNMrvZX92i8E"
      },
      "source": [
        "**Confirm succesful conversion of columns to analytical data types**\n",
        "\n"
      ]
    },
    {
      "cell_type": "code",
      "metadata": {
        "colab": {
          "base_uri": "https://localhost:8080/"
        },
        "id": "Br7CTZdBoA08",
        "outputId": "b9c87f7f-6241-47a7-a43d-76594fb33bd4"
      },
      "source": [
        "df.dtypes"
      ],
      "execution_count": null,
      "outputs": [
        {
          "output_type": "execute_result",
          "data": {
            "text/plain": [
              "timeStamp                  datetime64[ns]\n",
              "vehicleType                      category\n",
              "entrance                         category\n",
              "exit                             category\n",
              "qty                                 int64\n",
              "isDaylightSavingsTime                bool\n",
              "intersectionId                   category\n",
              "intersectionDescription          category\n",
              "dtype: object"
            ]
          },
          "metadata": {
            "tags": []
          },
          "execution_count": 92
        }
      ]
    },
    {
      "cell_type": "markdown",
      "metadata": {
        "id": "mHMQpx0k3DmB"
      },
      "source": [
        "**Export file to CSV, mobdata.csv**"
      ]
    },
    {
      "cell_type": "code",
      "metadata": {
        "id": "keGStQZfo_F3"
      },
      "source": [
        "df.to_csv('mobdata.csv', index=False)"
      ],
      "execution_count": null,
      "outputs": []
    },
    {
      "cell_type": "markdown",
      "metadata": {
        "id": "IQ7xbuFP3Bqf"
      },
      "source": [
        "\n",
        "\n",
        "---\n",
        "\n",
        "\n",
        "\n",
        "---\n",
        "\n",
        "\n",
        "\n",
        "---\n",
        "\n"
      ]
    },
    {
      "cell_type": "markdown",
      "metadata": {
        "id": "9aa3QZy57byL"
      },
      "source": [
        "# **EXPT, PREMODELING**"
      ]
    },
    {
      "cell_type": "code",
      "metadata": {
        "id": "FW6UZnxD3Uxf"
      },
      "source": [
        "import plotly.express as px\n",
        "import numpy as np\n",
        "\n",
        "grouped = df.groupby('timeStamp')\n",
        "df2 = grouped['qty'].agg(np.sum)\n"
      ],
      "execution_count": null,
      "outputs": []
    },
    {
      "cell_type": "code",
      "metadata": {
        "id": "A6CD3CNz5spy"
      },
      "source": [
        "# Aggregate data by minute\n",
        "df2 = df.groupby('timeStamp', as_index=False)[['qty']].sum()"
      ],
      "execution_count": null,
      "outputs": []
    },
    {
      "cell_type": "code",
      "metadata": {
        "colab": {
          "base_uri": "https://localhost:8080/",
          "height": 142
        },
        "id": "LZ2E0Ixm6WXd",
        "outputId": "b8a4a24d-9576-4705-c64c-bf39242b56cb"
      },
      "source": [
        "df2.head(3)"
      ],
      "execution_count": null,
      "outputs": [
        {
          "output_type": "execute_result",
          "data": {
            "text/html": [
              "<div>\n",
              "<style scoped>\n",
              "    .dataframe tbody tr th:only-of-type {\n",
              "        vertical-align: middle;\n",
              "    }\n",
              "\n",
              "    .dataframe tbody tr th {\n",
              "        vertical-align: top;\n",
              "    }\n",
              "\n",
              "    .dataframe thead th {\n",
              "        text-align: right;\n",
              "    }\n",
              "</style>\n",
              "<table border=\"1\" class=\"dataframe\">\n",
              "  <thead>\n",
              "    <tr style=\"text-align: right;\">\n",
              "      <th></th>\n",
              "      <th>timeStamp</th>\n",
              "      <th>qty</th>\n",
              "    </tr>\n",
              "  </thead>\n",
              "  <tbody>\n",
              "    <tr>\n",
              "      <th>0</th>\n",
              "      <td>2021-06-27 00:00:00</td>\n",
              "      <td>8</td>\n",
              "    </tr>\n",
              "    <tr>\n",
              "      <th>1</th>\n",
              "      <td>2021-06-27 00:01:00</td>\n",
              "      <td>4</td>\n",
              "    </tr>\n",
              "    <tr>\n",
              "      <th>2</th>\n",
              "      <td>2021-06-27 00:02:00</td>\n",
              "      <td>7</td>\n",
              "    </tr>\n",
              "  </tbody>\n",
              "</table>\n",
              "</div>"
            ],
            "text/plain": [
              "            timeStamp  qty\n",
              "0 2021-06-27 00:00:00    8\n",
              "1 2021-06-27 00:01:00    4\n",
              "2 2021-06-27 00:02:00    7"
            ]
          },
          "metadata": {
            "tags": []
          },
          "execution_count": 111
        }
      ]
    },
    {
      "cell_type": "code",
      "metadata": {
        "colab": {
          "base_uri": "https://localhost:8080/",
          "height": 542
        },
        "id": "9959jA4a5iU_",
        "outputId": "c2018858-4b1b-4117-db34-10bfd5c4381e"
      },
      "source": [
        "fig = px.line(df2, x='timeStamp', y=\"qty\")\n",
        "fig.show()"
      ],
      "execution_count": null,
      "outputs": [
        {
          "output_type": "display_data",
          "data": {
            "text/html": [
              "<html>\n",
              "<head><meta charset=\"utf-8\" /></head>\n",
              "<body>\n",
              "    <div>\n",
              "            <script src=\"https://cdnjs.cloudflare.com/ajax/libs/mathjax/2.7.5/MathJax.js?config=TeX-AMS-MML_SVG\"></script><script type=\"text/javascript\">if (window.MathJax) {MathJax.Hub.Config({SVG: {font: \"STIX-Web\"}});}</script>\n",
              "                <script type=\"text/javascript\">window.PlotlyConfig = {MathJaxConfig: 'local'};</script>\n",
              "        <script src=\"https://cdn.plot.ly/plotly-latest.min.js\"></script>    \n",
              "            <div id=\"ffb5d836-22ed-45dd-a70d-1d0e3c476dbd\" class=\"plotly-graph-div\" style=\"height:525px; width:100%;\"></div>\n",
              "            <script type=\"text/javascript\">\n",
              "                \n",
              "                    window.PLOTLYENV=window.PLOTLYENV || {};\n",
              "                    \n",
              "                if (document.getElementById(\"ffb5d836-22ed-45dd-a70d-1d0e3c476dbd\")) {\n",
              "                    Plotly.newPlot(\n",
              "                        'ffb5d836-22ed-45dd-a70d-1d0e3c476dbd',\n",
              "                        [{\"hoverlabel\": {\"namelength\": 0}, \"hovertemplate\": \"timeStamp=%{x}<br>qty=%{y}\", \"legendgroup\": \"\", \"line\": {\"color\": \"#636efa\", \"dash\": \"solid\"}, \"mode\": \"lines\", \"name\": \"\", \"showlegend\": false, \"type\": \"scattergl\", \"x\": [\"2021-06-27T00:00:00\", \"2021-06-27T00:01:00\", \"2021-06-27T00:02:00\", \"2021-06-27T00:03:00\", \"2021-06-27T00:04:00\", \"2021-06-27T00:05:00\", \"2021-06-27T00:06:00\", \"2021-06-27T00:07:00\", \"2021-06-27T00:08:00\", \"2021-06-27T00:09:00\", \"2021-06-27T00:10:00\", \"2021-06-27T00:11:00\", \"2021-06-27T00:12:00\", \"2021-06-27T00:13:00\", \"2021-06-27T00:14:00\", \"2021-06-27T00:15:00\", \"2021-06-27T00:16:00\", \"2021-06-27T00:17:00\", \"2021-06-27T00:18:00\", \"2021-06-27T00:19:00\", \"2021-06-27T00:20:00\", \"2021-06-27T00:21:00\", \"2021-06-27T00:22:00\", \"2021-06-27T00:23:00\", \"2021-06-27T00:24:00\", \"2021-06-27T00:25:00\", \"2021-06-27T00:26:00\", \"2021-06-27T00:27:00\", \"2021-06-27T00:28:00\", \"2021-06-27T00:29:00\", \"2021-06-27T00:30:00\", \"2021-06-27T00:31:00\", \"2021-06-27T00:32:00\", \"2021-06-27T00:33:00\", \"2021-06-27T00:34:00\", \"2021-06-27T00:35:00\", \"2021-06-27T00:36:00\", \"2021-06-27T00:37:00\", \"2021-06-27T00:38:00\", \"2021-06-27T00:39:00\", \"2021-06-27T00:40:00\", \"2021-06-27T00:42:00\", \"2021-06-27T00:43:00\", \"2021-06-27T00:44:00\", \"2021-06-27T00:45:00\", \"2021-06-27T00:46:00\", \"2021-06-27T00:47:00\", \"2021-06-27T00:48:00\", \"2021-06-27T00:49:00\", \"2021-06-27T00:50:00\", \"2021-06-27T00:51:00\", \"2021-06-27T00:52:00\", \"2021-06-27T00:53:00\", \"2021-06-27T00:54:00\", \"2021-06-27T00:55:00\", \"2021-06-27T00:56:00\", \"2021-06-27T00:58:00\", \"2021-06-27T00:59:00\", \"2021-06-27T01:00:00\", \"2021-06-27T01:01:00\", \"2021-06-27T01:02:00\", \"2021-06-27T01:03:00\", \"2021-06-27T01:04:00\", \"2021-06-27T01:05:00\", \"2021-06-27T01:06:00\", \"2021-06-27T01:07:00\", \"2021-06-27T01:08:00\", \"2021-06-27T01:09:00\", \"2021-06-27T01:10:00\", \"2021-06-27T01:11:00\", \"2021-06-27T01:12:00\", \"2021-06-27T01:13:00\", \"2021-06-27T01:14:00\", \"2021-06-27T01:15:00\", \"2021-06-27T01:16:00\", \"2021-06-27T01:17:00\", \"2021-06-27T01:18:00\", \"2021-06-27T01:19:00\", \"2021-06-27T01:20:00\", \"2021-06-27T01:21:00\", \"2021-06-27T01:22:00\", \"2021-06-27T01:23:00\", \"2021-06-27T01:24:00\", \"2021-06-27T01:25:00\", \"2021-06-27T01:26:00\", \"2021-06-27T01:27:00\", \"2021-06-27T01:28:00\", \"2021-06-27T01:29:00\", \"2021-06-27T01:30:00\", \"2021-06-27T01:31:00\", \"2021-06-27T01:32:00\", \"2021-06-27T01:33:00\", \"2021-06-27T01:34:00\", \"2021-06-27T01:35:00\", \"2021-06-27T01:36:00\", \"2021-06-27T01:37:00\", \"2021-06-27T01:38:00\", \"2021-06-27T01:39:00\", \"2021-06-27T01:40:00\", \"2021-06-27T01:41:00\", \"2021-06-27T01:42:00\", \"2021-06-27T01:43:00\", \"2021-06-27T01:44:00\", \"2021-06-27T01:45:00\", \"2021-06-27T01:46:00\", \"2021-06-27T01:47:00\", \"2021-06-27T01:48:00\", \"2021-06-27T01:49:00\", \"2021-06-27T01:50:00\", \"2021-06-27T01:51:00\", \"2021-06-27T01:52:00\", \"2021-06-27T01:53:00\", \"2021-06-27T01:54:00\", \"2021-06-27T01:55:00\", \"2021-06-27T01:56:00\", \"2021-06-27T01:57:00\", \"2021-06-27T01:58:00\", \"2021-06-27T01:59:00\", \"2021-06-27T02:00:00\", \"2021-06-27T02:01:00\", \"2021-06-27T02:02:00\", \"2021-06-27T02:03:00\", \"2021-06-27T02:04:00\", \"2021-06-27T02:05:00\", \"2021-06-27T02:06:00\", \"2021-06-27T02:07:00\", \"2021-06-27T02:08:00\", \"2021-06-27T02:09:00\", \"2021-06-27T02:10:00\", \"2021-06-27T02:11:00\", \"2021-06-27T02:12:00\", \"2021-06-27T02:13:00\", \"2021-06-27T02:14:00\", \"2021-06-27T02:15:00\", \"2021-06-27T02:16:00\", \"2021-06-27T02:17:00\", \"2021-06-27T02:18:00\", \"2021-06-27T02:19:00\", \"2021-06-27T02:20:00\", \"2021-06-27T02:21:00\", \"2021-06-27T02:22:00\", \"2021-06-27T02:23:00\", \"2021-06-27T02:24:00\", \"2021-06-27T02:25:00\", \"2021-06-27T02:26:00\", \"2021-06-27T02:28:00\", \"2021-06-27T02:29:00\", \"2021-06-27T02:30:00\", \"2021-06-27T02:31:00\", \"2021-06-27T02:32:00\", \"2021-06-27T02:33:00\", \"2021-06-27T02:34:00\", \"2021-06-27T02:35:00\", \"2021-06-27T02:37:00\", \"2021-06-27T02:38:00\", \"2021-06-27T02:39:00\", \"2021-06-27T02:40:00\", \"2021-06-27T02:41:00\", \"2021-06-27T02:42:00\", \"2021-06-27T02:43:00\", \"2021-06-27T02:44:00\", \"2021-06-27T02:45:00\", \"2021-06-27T02:46:00\", \"2021-06-27T02:47:00\", \"2021-06-27T02:48:00\", \"2021-06-27T02:50:00\", \"2021-06-27T02:51:00\", \"2021-06-27T02:52:00\", \"2021-06-27T02:53:00\", \"2021-06-27T02:54:00\", \"2021-06-27T02:55:00\", \"2021-06-27T02:57:00\", \"2021-06-27T02:58:00\", \"2021-06-27T02:59:00\", \"2021-06-27T03:00:00\", \"2021-06-27T03:01:00\", \"2021-06-27T03:02:00\", \"2021-06-27T03:03:00\", \"2021-06-27T03:04:00\", \"2021-06-27T03:05:00\", \"2021-06-27T03:06:00\", \"2021-06-27T03:07:00\", \"2021-06-27T03:08:00\", \"2021-06-27T03:09:00\", \"2021-06-27T03:10:00\", \"2021-06-27T03:11:00\", \"2021-06-27T03:12:00\", \"2021-06-27T03:13:00\", \"2021-06-27T03:14:00\", \"2021-06-27T03:15:00\", \"2021-06-27T03:16:00\", \"2021-06-27T03:17:00\", \"2021-06-27T03:18:00\", \"2021-06-27T03:19:00\", \"2021-06-27T03:20:00\", \"2021-06-27T03:21:00\", \"2021-06-27T03:22:00\", \"2021-06-27T03:24:00\", \"2021-06-27T03:25:00\", \"2021-06-27T03:26:00\", \"2021-06-27T03:28:00\", \"2021-06-27T03:29:00\", \"2021-06-27T03:30:00\", \"2021-06-27T03:31:00\", \"2021-06-27T03:32:00\", \"2021-06-27T03:33:00\", \"2021-06-27T03:34:00\", \"2021-06-27T03:35:00\", \"2021-06-27T03:36:00\", \"2021-06-27T03:37:00\", \"2021-06-27T03:38:00\", \"2021-06-27T03:40:00\", \"2021-06-27T03:41:00\", \"2021-06-27T03:42:00\", \"2021-06-27T03:43:00\", \"2021-06-27T03:44:00\", \"2021-06-27T03:45:00\", \"2021-06-27T03:46:00\", \"2021-06-27T03:47:00\", \"2021-06-27T03:48:00\", \"2021-06-27T03:49:00\", \"2021-06-27T03:50:00\", \"2021-06-27T03:51:00\", \"2021-06-27T03:52:00\", \"2021-06-27T03:53:00\", \"2021-06-27T03:54:00\", \"2021-06-27T03:55:00\", \"2021-06-27T03:56:00\", \"2021-06-27T03:57:00\", \"2021-06-27T03:58:00\", \"2021-06-27T03:59:00\", \"2021-06-27T04:00:00\", \"2021-06-27T04:02:00\", \"2021-06-27T04:03:00\", \"2021-06-27T04:04:00\", \"2021-06-27T04:05:00\", \"2021-06-27T04:08:00\", \"2021-06-27T04:09:00\", \"2021-06-27T04:10:00\", \"2021-06-27T04:11:00\", \"2021-06-27T04:12:00\", \"2021-06-27T04:13:00\", \"2021-06-27T04:14:00\", \"2021-06-27T04:15:00\", \"2021-06-27T04:16:00\", \"2021-06-27T04:17:00\", \"2021-06-27T04:18:00\", \"2021-06-27T04:19:00\", \"2021-06-27T04:20:00\", \"2021-06-27T04:22:00\", \"2021-06-27T04:23:00\", \"2021-06-27T04:24:00\", \"2021-06-27T04:25:00\", \"2021-06-27T04:26:00\", \"2021-06-27T04:27:00\", \"2021-06-27T04:28:00\", \"2021-06-27T04:30:00\", \"2021-06-27T04:31:00\", \"2021-06-27T04:33:00\", \"2021-06-27T04:34:00\", \"2021-06-27T04:37:00\", \"2021-06-27T04:39:00\", \"2021-06-27T04:41:00\", \"2021-06-27T04:42:00\", \"2021-06-27T04:43:00\", \"2021-06-27T04:44:00\", \"2021-06-27T04:45:00\", \"2021-06-27T04:46:00\", \"2021-06-27T04:47:00\", \"2021-06-27T04:48:00\", \"2021-06-27T04:49:00\", \"2021-06-27T04:50:00\", \"2021-06-27T04:51:00\", \"2021-06-27T04:52:00\", \"2021-06-27T04:53:00\", \"2021-06-27T04:54:00\", \"2021-06-27T04:55:00\", \"2021-06-27T04:56:00\", \"2021-06-27T04:57:00\", \"2021-06-27T04:58:00\", \"2021-06-27T04:59:00\", \"2021-06-27T05:00:00\", \"2021-06-27T05:01:00\", \"2021-06-27T05:02:00\", \"2021-06-27T05:03:00\", \"2021-06-27T05:04:00\", \"2021-06-27T05:05:00\", \"2021-06-27T05:06:00\", \"2021-06-27T05:07:00\", \"2021-06-27T05:08:00\", \"2021-06-27T05:09:00\", \"2021-06-27T05:10:00\", \"2021-06-27T05:11:00\", \"2021-06-27T05:12:00\", \"2021-06-27T05:13:00\", \"2021-06-27T05:14:00\", \"2021-06-27T05:15:00\", \"2021-06-27T05:16:00\", \"2021-06-27T05:17:00\", \"2021-06-27T05:18:00\", \"2021-06-27T05:19:00\", \"2021-06-27T05:20:00\", \"2021-06-27T05:21:00\", \"2021-06-27T05:22:00\", \"2021-06-27T05:23:00\", \"2021-06-27T05:24:00\", \"2021-06-27T05:25:00\", \"2021-06-27T05:26:00\", \"2021-06-27T05:27:00\", \"2021-06-27T05:28:00\", \"2021-06-27T05:29:00\", \"2021-06-27T05:30:00\", \"2021-06-27T05:31:00\", \"2021-06-27T05:32:00\", \"2021-06-27T05:33:00\", \"2021-06-27T05:35:00\", \"2021-06-27T05:36:00\", \"2021-06-27T05:37:00\", \"2021-06-27T05:38:00\", \"2021-06-27T05:39:00\", \"2021-06-27T05:40:00\", \"2021-06-27T05:41:00\", \"2021-06-27T05:42:00\", \"2021-06-27T05:43:00\", \"2021-06-27T05:44:00\", \"2021-06-27T05:45:00\", \"2021-06-27T05:46:00\", \"2021-06-27T05:47:00\", \"2021-06-27T05:48:00\", \"2021-06-27T05:49:00\", \"2021-06-27T05:50:00\", \"2021-06-27T05:51:00\", \"2021-06-27T05:52:00\", \"2021-06-27T05:53:00\", \"2021-06-27T05:54:00\", \"2021-06-27T05:55:00\", \"2021-06-27T05:56:00\", \"2021-06-27T05:57:00\", \"2021-06-27T05:58:00\", \"2021-06-27T05:59:00\", \"2021-06-27T06:00:00\", \"2021-06-27T06:01:00\", \"2021-06-27T06:02:00\", \"2021-06-27T06:03:00\", \"2021-06-27T06:04:00\", \"2021-06-27T06:05:00\", \"2021-06-27T06:06:00\", \"2021-06-27T06:07:00\", \"2021-06-27T06:08:00\", \"2021-06-27T06:09:00\", \"2021-06-27T06:10:00\", \"2021-06-27T06:11:00\", \"2021-06-27T06:12:00\", \"2021-06-27T06:13:00\", \"2021-06-27T06:14:00\", \"2021-06-27T06:15:00\", \"2021-06-27T06:16:00\", \"2021-06-27T06:17:00\", \"2021-06-27T06:18:00\", \"2021-06-27T06:19:00\", \"2021-06-27T06:20:00\", \"2021-06-27T06:21:00\", \"2021-06-27T06:22:00\", \"2021-06-27T06:23:00\", \"2021-06-27T06:24:00\", \"2021-06-27T06:25:00\", \"2021-06-27T06:26:00\", \"2021-06-27T06:27:00\", \"2021-06-27T06:28:00\", \"2021-06-27T06:29:00\", \"2021-06-27T06:30:00\", \"2021-06-27T06:31:00\", \"2021-06-27T06:32:00\", \"2021-06-27T06:33:00\", \"2021-06-27T06:34:00\", \"2021-06-27T06:35:00\", \"2021-06-27T06:36:00\", \"2021-06-27T06:37:00\", \"2021-06-27T06:38:00\", \"2021-06-27T06:39:00\", \"2021-06-27T06:40:00\", \"2021-06-27T06:41:00\", \"2021-06-27T06:42:00\", \"2021-06-27T06:43:00\", \"2021-06-27T06:44:00\", \"2021-06-27T06:45:00\", \"2021-06-27T06:46:00\", \"2021-06-27T06:47:00\", \"2021-06-27T06:48:00\", \"2021-06-27T06:49:00\", \"2021-06-27T06:50:00\", \"2021-06-27T06:51:00\", \"2021-06-27T06:52:00\", \"2021-06-27T06:53:00\", \"2021-06-27T06:54:00\", \"2021-06-27T06:55:00\", \"2021-06-27T06:56:00\", \"2021-06-27T06:57:00\", \"2021-06-27T06:58:00\", \"2021-06-27T06:59:00\", \"2021-06-27T07:00:00\", \"2021-06-27T07:01:00\", \"2021-06-27T07:02:00\", \"2021-06-27T07:03:00\", \"2021-06-27T07:04:00\", \"2021-06-27T07:05:00\", \"2021-06-27T07:06:00\", \"2021-06-27T07:07:00\", \"2021-06-27T07:08:00\", \"2021-06-27T07:09:00\", \"2021-06-27T07:10:00\", \"2021-06-27T07:11:00\", \"2021-06-27T07:12:00\", \"2021-06-27T07:13:00\", \"2021-06-27T07:14:00\", \"2021-06-27T07:15:00\", \"2021-06-27T07:16:00\", \"2021-06-27T07:17:00\", \"2021-06-27T07:18:00\", \"2021-06-27T07:19:00\", \"2021-06-27T07:20:00\", \"2021-06-27T07:21:00\", \"2021-06-27T07:22:00\", \"2021-06-27T07:23:00\", \"2021-06-27T07:24:00\", \"2021-06-27T07:25:00\", \"2021-06-27T07:26:00\", \"2021-06-27T07:27:00\", \"2021-06-27T07:28:00\", \"2021-06-27T07:29:00\", \"2021-06-27T07:30:00\", \"2021-06-27T07:31:00\", \"2021-06-27T07:32:00\", \"2021-06-27T07:33:00\", \"2021-06-27T07:34:00\", \"2021-06-27T07:35:00\", \"2021-06-27T07:36:00\", \"2021-06-27T07:37:00\", \"2021-06-27T07:38:00\", \"2021-06-27T07:39:00\", \"2021-06-27T07:40:00\", \"2021-06-27T07:41:00\", \"2021-06-27T07:42:00\", \"2021-06-27T07:43:00\", \"2021-06-27T07:44:00\", \"2021-06-27T07:45:00\", \"2021-06-27T07:46:00\", \"2021-06-27T07:47:00\", \"2021-06-27T07:48:00\", \"2021-06-27T07:49:00\", \"2021-06-27T07:50:00\", \"2021-06-27T07:51:00\", \"2021-06-27T07:52:00\", \"2021-06-27T07:53:00\", \"2021-06-27T07:54:00\", \"2021-06-27T07:55:00\", \"2021-06-27T07:56:00\", \"2021-06-27T07:57:00\", \"2021-06-27T07:58:00\", \"2021-06-27T07:59:00\", \"2021-06-27T08:00:00\", \"2021-06-27T08:01:00\", \"2021-06-27T08:02:00\", \"2021-06-27T08:03:00\", \"2021-06-27T08:04:00\", \"2021-06-27T08:05:00\", \"2021-06-27T08:06:00\", \"2021-06-27T08:07:00\", \"2021-06-27T08:08:00\", \"2021-06-27T08:09:00\", \"2021-06-27T08:10:00\", \"2021-06-27T08:11:00\", \"2021-06-27T08:12:00\", \"2021-06-27T08:13:00\", \"2021-06-27T08:14:00\", \"2021-06-27T08:15:00\", \"2021-06-27T08:16:00\", \"2021-06-27T08:17:00\", \"2021-06-27T08:18:00\", \"2021-06-27T08:19:00\", \"2021-06-27T08:20:00\", \"2021-06-27T08:21:00\", \"2021-06-27T08:22:00\", \"2021-06-27T08:23:00\", \"2021-06-27T08:24:00\", \"2021-06-27T08:25:00\", \"2021-06-27T08:26:00\", \"2021-06-27T08:27:00\", \"2021-06-27T08:28:00\", \"2021-06-27T08:29:00\", \"2021-06-27T08:30:00\", \"2021-06-27T08:31:00\", \"2021-06-27T08:32:00\", \"2021-06-27T08:33:00\", \"2021-06-27T08:34:00\", \"2021-06-27T08:35:00\", \"2021-06-27T08:36:00\", \"2021-06-27T08:37:00\", \"2021-06-27T08:38:00\", \"2021-06-27T08:39:00\", \"2021-06-27T08:40:00\", \"2021-06-27T08:41:00\", \"2021-06-27T08:42:00\", \"2021-06-27T08:43:00\", \"2021-06-27T08:44:00\", \"2021-06-27T08:45:00\", \"2021-06-27T08:46:00\", \"2021-06-27T08:47:00\", \"2021-06-27T08:48:00\", \"2021-06-27T08:49:00\", \"2021-06-27T08:50:00\", \"2021-06-27T08:51:00\", \"2021-06-27T08:52:00\", \"2021-06-27T08:53:00\", \"2021-06-27T08:54:00\", \"2021-06-27T08:55:00\", \"2021-06-27T08:56:00\", \"2021-06-27T08:57:00\", \"2021-06-27T08:58:00\", \"2021-06-27T08:59:00\", \"2021-06-27T09:00:00\", \"2021-06-27T09:01:00\", \"2021-06-27T09:02:00\", \"2021-06-27T09:03:00\", \"2021-06-27T09:04:00\", \"2021-06-27T09:05:00\", \"2021-06-27T09:06:00\", \"2021-06-27T09:07:00\", \"2021-06-27T09:08:00\", \"2021-06-27T09:09:00\", \"2021-06-27T09:10:00\", \"2021-06-27T09:11:00\", \"2021-06-27T09:12:00\", \"2021-06-27T09:13:00\", \"2021-06-27T09:14:00\", \"2021-06-27T09:15:00\", \"2021-06-27T09:16:00\", \"2021-06-27T09:17:00\", \"2021-06-27T09:18:00\", \"2021-06-27T09:19:00\", \"2021-06-27T09:20:00\", \"2021-06-27T09:21:00\", \"2021-06-27T09:22:00\", \"2021-06-27T09:23:00\", \"2021-06-27T09:24:00\", \"2021-06-27T09:25:00\", \"2021-06-27T09:26:00\", \"2021-06-27T09:27:00\", \"2021-06-27T09:28:00\", \"2021-06-27T09:29:00\", \"2021-06-27T09:30:00\", \"2021-06-27T09:31:00\", \"2021-06-27T09:32:00\", \"2021-06-27T09:33:00\", \"2021-06-27T09:34:00\", \"2021-06-27T09:35:00\", \"2021-06-27T09:36:00\", \"2021-06-27T09:37:00\", \"2021-06-27T09:38:00\", \"2021-06-27T09:39:00\", \"2021-06-27T09:40:00\", \"2021-06-27T09:41:00\", \"2021-06-27T09:42:00\", \"2021-06-27T09:43:00\", \"2021-06-27T09:44:00\", \"2021-06-27T09:45:00\", \"2021-06-27T09:46:00\", \"2021-06-27T09:47:00\", \"2021-06-27T09:48:00\", \"2021-06-27T09:49:00\", \"2021-06-27T09:50:00\", \"2021-06-27T09:51:00\", \"2021-06-27T09:52:00\", \"2021-06-27T09:53:00\", \"2021-06-27T09:54:00\", \"2021-06-27T09:55:00\", \"2021-06-27T09:56:00\", \"2021-06-27T09:57:00\", \"2021-06-27T09:58:00\", \"2021-06-27T09:59:00\", \"2021-06-27T10:00:00\", \"2021-06-27T10:01:00\", \"2021-06-27T10:02:00\", \"2021-06-27T10:03:00\", \"2021-06-27T10:04:00\", \"2021-06-27T10:05:00\", \"2021-06-27T10:06:00\", \"2021-06-27T10:07:00\", \"2021-06-27T10:08:00\", \"2021-06-27T10:09:00\", \"2021-06-27T10:10:00\", \"2021-06-27T10:11:00\", \"2021-06-27T10:12:00\", \"2021-06-27T10:13:00\", \"2021-06-27T10:14:00\", \"2021-06-27T10:15:00\", \"2021-06-27T10:16:00\", \"2021-06-27T10:17:00\", \"2021-06-27T10:18:00\", \"2021-06-27T10:19:00\", \"2021-06-27T10:20:00\", \"2021-06-27T10:21:00\", \"2021-06-27T10:22:00\", \"2021-06-27T10:23:00\", \"2021-06-27T10:24:00\", \"2021-06-27T10:25:00\", \"2021-06-27T10:26:00\", \"2021-06-27T10:27:00\", \"2021-06-27T10:28:00\", \"2021-06-27T10:29:00\", \"2021-06-27T10:30:00\", \"2021-06-27T10:31:00\", \"2021-06-27T10:32:00\", \"2021-06-27T10:33:00\", \"2021-06-27T10:34:00\", \"2021-06-27T10:35:00\", \"2021-06-27T10:36:00\", \"2021-06-27T10:37:00\", \"2021-06-27T10:38:00\", \"2021-06-27T10:39:00\", \"2021-06-27T10:40:00\", \"2021-06-27T10:41:00\", \"2021-06-27T10:42:00\", \"2021-06-27T10:43:00\", \"2021-06-27T10:44:00\", \"2021-06-27T10:45:00\", \"2021-06-27T10:46:00\", \"2021-06-27T10:47:00\", \"2021-06-27T10:48:00\", \"2021-06-27T10:49:00\", \"2021-06-27T10:50:00\", \"2021-06-27T10:51:00\", \"2021-06-27T10:52:00\", \"2021-06-27T10:53:00\", \"2021-06-27T10:54:00\", \"2021-06-27T10:55:00\", \"2021-06-27T10:56:00\", \"2021-06-27T10:57:00\", \"2021-06-27T10:58:00\", \"2021-06-27T10:59:00\", \"2021-06-27T11:00:00\", \"2021-06-27T11:01:00\", \"2021-06-27T11:02:00\", \"2021-06-27T11:03:00\", \"2021-06-27T11:04:00\", \"2021-06-27T11:05:00\", \"2021-06-27T11:06:00\", \"2021-06-27T11:07:00\", \"2021-06-27T11:08:00\", \"2021-06-27T11:09:00\", \"2021-06-27T11:10:00\", \"2021-06-27T11:11:00\", \"2021-06-27T11:12:00\", \"2021-06-27T11:13:00\", \"2021-06-27T11:14:00\", \"2021-06-27T11:15:00\", \"2021-06-27T11:16:00\", \"2021-06-27T11:17:00\", \"2021-06-27T11:18:00\", \"2021-06-27T11:19:00\", \"2021-06-27T11:20:00\", \"2021-06-27T11:21:00\", \"2021-06-27T11:22:00\", \"2021-06-27T11:23:00\", \"2021-06-27T11:24:00\", \"2021-06-27T11:25:00\", \"2021-06-27T11:26:00\", \"2021-06-27T11:27:00\", \"2021-06-27T11:28:00\", \"2021-06-27T11:29:00\", \"2021-06-27T11:30:00\", \"2021-06-27T11:31:00\", \"2021-06-27T11:32:00\", \"2021-06-27T11:33:00\", \"2021-06-27T11:34:00\", \"2021-06-27T11:35:00\", \"2021-06-27T11:36:00\", \"2021-06-27T11:37:00\", \"2021-06-27T11:38:00\", \"2021-06-27T11:39:00\", \"2021-06-27T11:40:00\", \"2021-06-27T11:41:00\", \"2021-06-27T11:42:00\", \"2021-06-27T11:43:00\", \"2021-06-27T11:44:00\", \"2021-06-27T11:45:00\", \"2021-06-27T11:46:00\", \"2021-06-27T11:47:00\", \"2021-06-27T11:48:00\", \"2021-06-27T11:49:00\", \"2021-06-27T11:50:00\", \"2021-06-27T11:51:00\", \"2021-06-27T11:52:00\", \"2021-06-27T11:53:00\", \"2021-06-27T11:54:00\", \"2021-06-27T11:55:00\", \"2021-06-27T11:56:00\", \"2021-06-27T11:57:00\", \"2021-06-27T11:58:00\", \"2021-06-27T11:59:00\", \"2021-06-27T12:00:00\", \"2021-06-27T12:01:00\", \"2021-06-27T12:02:00\", \"2021-06-27T12:03:00\", \"2021-06-27T12:04:00\", \"2021-06-27T12:05:00\", \"2021-06-27T12:06:00\", \"2021-06-27T12:07:00\", \"2021-06-27T12:08:00\", \"2021-06-27T12:09:00\", \"2021-06-27T12:10:00\", \"2021-06-27T12:11:00\", \"2021-06-27T12:12:00\", \"2021-06-27T12:13:00\", \"2021-06-27T12:14:00\", \"2021-06-27T12:15:00\", \"2021-06-27T12:16:00\", \"2021-06-27T12:17:00\", \"2021-06-27T12:18:00\", \"2021-06-27T12:19:00\", \"2021-06-27T12:20:00\", \"2021-06-27T12:21:00\", \"2021-06-27T12:22:00\", \"2021-06-27T12:23:00\", \"2021-06-27T12:24:00\", \"2021-06-27T12:25:00\", \"2021-06-27T12:26:00\", \"2021-06-27T12:27:00\", \"2021-06-27T12:28:00\", \"2021-06-27T12:29:00\", \"2021-06-27T12:30:00\", \"2021-06-27T12:31:00\", \"2021-06-27T12:32:00\", \"2021-06-27T12:33:00\", \"2021-06-27T12:34:00\", \"2021-06-27T12:35:00\", \"2021-06-27T12:36:00\", \"2021-06-27T12:37:00\", \"2021-06-27T12:38:00\", \"2021-06-27T12:39:00\", \"2021-06-27T12:40:00\", \"2021-06-27T12:41:00\", \"2021-06-27T12:42:00\", \"2021-06-27T12:43:00\", \"2021-06-27T12:44:00\", \"2021-06-27T12:45:00\", \"2021-06-27T12:46:00\", \"2021-06-27T12:47:00\", \"2021-06-27T12:48:00\", \"2021-06-27T12:49:00\", \"2021-06-27T12:50:00\", \"2021-06-27T12:51:00\", \"2021-06-27T12:52:00\", \"2021-06-27T12:53:00\", \"2021-06-27T12:54:00\", \"2021-06-27T12:55:00\", \"2021-06-27T12:56:00\", \"2021-06-27T12:57:00\", \"2021-06-27T12:58:00\", \"2021-06-27T12:59:00\", \"2021-06-27T13:00:00\", \"2021-06-27T13:01:00\", \"2021-06-27T13:02:00\", \"2021-06-27T13:03:00\", \"2021-06-27T13:04:00\", \"2021-06-27T13:05:00\", \"2021-06-27T13:06:00\", \"2021-06-27T13:07:00\", \"2021-06-27T13:08:00\", \"2021-06-27T13:09:00\", \"2021-06-27T13:10:00\", \"2021-06-27T13:11:00\", \"2021-06-27T13:12:00\", \"2021-06-27T13:13:00\", \"2021-06-27T13:14:00\", \"2021-06-27T13:15:00\", \"2021-06-27T13:16:00\", \"2021-06-27T13:17:00\", \"2021-06-27T13:18:00\", \"2021-06-27T13:19:00\", \"2021-06-27T13:20:00\", \"2021-06-27T13:21:00\", \"2021-06-27T13:22:00\", \"2021-06-27T13:23:00\", \"2021-06-27T13:24:00\", \"2021-06-27T13:25:00\", \"2021-06-27T13:26:00\", \"2021-06-27T13:27:00\", \"2021-06-27T13:28:00\", \"2021-06-27T13:29:00\", \"2021-06-27T13:30:00\", \"2021-06-27T13:31:00\", \"2021-06-27T13:32:00\", \"2021-06-27T13:33:00\", \"2021-06-27T13:34:00\", \"2021-06-27T13:35:00\", \"2021-06-27T13:36:00\", \"2021-06-27T13:37:00\", \"2021-06-27T13:38:00\", \"2021-06-27T13:39:00\", \"2021-06-27T13:40:00\", \"2021-06-27T13:41:00\", \"2021-06-27T13:42:00\", \"2021-06-27T13:43:00\", \"2021-06-27T13:44:00\", \"2021-06-27T13:45:00\", \"2021-06-27T13:46:00\", \"2021-06-27T13:47:00\", \"2021-06-27T13:48:00\", \"2021-06-27T13:49:00\", \"2021-06-27T13:50:00\", \"2021-06-27T13:51:00\", \"2021-06-27T13:52:00\", \"2021-06-27T13:53:00\", \"2021-06-27T13:54:00\", \"2021-06-27T13:55:00\", \"2021-06-27T13:56:00\", \"2021-06-27T13:57:00\", \"2021-06-27T13:58:00\", \"2021-06-27T13:59:00\", \"2021-06-27T14:00:00\", \"2021-06-27T14:01:00\", \"2021-06-27T14:02:00\", \"2021-06-27T14:03:00\", \"2021-06-27T14:04:00\", \"2021-06-27T14:05:00\", \"2021-06-27T14:06:00\", \"2021-06-27T14:07:00\", \"2021-06-27T14:08:00\", \"2021-06-27T14:09:00\", \"2021-06-27T14:10:00\", \"2021-06-27T14:11:00\", \"2021-06-27T14:12:00\", \"2021-06-27T14:13:00\", \"2021-06-27T14:14:00\", \"2021-06-27T14:15:00\", \"2021-06-27T14:16:00\", \"2021-06-27T14:17:00\", \"2021-06-27T14:18:00\", \"2021-06-27T14:19:00\", \"2021-06-27T14:20:00\", \"2021-06-27T14:21:00\", \"2021-06-27T14:22:00\", \"2021-06-27T14:23:00\", \"2021-06-27T14:24:00\", \"2021-06-27T14:25:00\", \"2021-06-27T14:26:00\", \"2021-06-27T14:27:00\", \"2021-06-27T14:28:00\", \"2021-06-27T14:29:00\", \"2021-06-27T14:30:00\", \"2021-06-27T14:31:00\", \"2021-06-27T14:32:00\", \"2021-06-27T14:33:00\", \"2021-06-27T14:34:00\", \"2021-06-27T14:35:00\", \"2021-06-27T14:36:00\", \"2021-06-27T14:37:00\", \"2021-06-27T14:38:00\", \"2021-06-27T14:39:00\", \"2021-06-27T14:40:00\", \"2021-06-27T14:41:00\", \"2021-06-27T14:42:00\", \"2021-06-27T14:43:00\", \"2021-06-27T14:44:00\", \"2021-06-27T14:45:00\", \"2021-06-27T14:46:00\", \"2021-06-27T14:47:00\", \"2021-06-27T14:48:00\", \"2021-06-27T14:49:00\", \"2021-06-27T14:50:00\", \"2021-06-27T14:51:00\", \"2021-06-27T14:52:00\", \"2021-06-27T14:53:00\", \"2021-06-27T14:54:00\", \"2021-06-27T14:55:00\", \"2021-06-27T14:56:00\", \"2021-06-27T14:57:00\", \"2021-06-27T14:58:00\", \"2021-06-27T14:59:00\", \"2021-06-27T15:00:00\", \"2021-06-27T15:01:00\", \"2021-06-27T15:02:00\", \"2021-06-27T15:03:00\", \"2021-06-27T15:04:00\", \"2021-06-27T15:05:00\", \"2021-06-27T15:06:00\", \"2021-06-27T15:07:00\", \"2021-06-27T15:08:00\", \"2021-06-27T15:09:00\", \"2021-06-27T15:10:00\", \"2021-06-27T15:11:00\", \"2021-06-27T15:12:00\", \"2021-06-27T15:13:00\", \"2021-06-27T15:14:00\", \"2021-06-27T15:15:00\", \"2021-06-27T15:16:00\", \"2021-06-27T15:17:00\", \"2021-06-27T15:18:00\", \"2021-06-27T15:19:00\", \"2021-06-27T15:20:00\", \"2021-06-27T15:21:00\", \"2021-06-27T15:22:00\", \"2021-06-27T15:23:00\", \"2021-06-27T15:24:00\", \"2021-06-27T15:25:00\", \"2021-06-27T15:26:00\", \"2021-06-27T15:27:00\", \"2021-06-27T15:28:00\", \"2021-06-27T15:29:00\", \"2021-06-27T15:30:00\", \"2021-06-27T15:31:00\", \"2021-06-27T15:32:00\", \"2021-06-27T15:33:00\", \"2021-06-27T15:34:00\", \"2021-06-27T15:35:00\", \"2021-06-27T15:36:00\", \"2021-06-27T15:37:00\", \"2021-06-27T15:38:00\", \"2021-06-27T15:39:00\", \"2021-06-27T15:40:00\", \"2021-06-27T15:41:00\", \"2021-06-27T15:42:00\", \"2021-06-27T15:43:00\", \"2021-06-27T15:44:00\", \"2021-06-27T15:45:00\", \"2021-06-27T15:46:00\", \"2021-06-27T15:47:00\", \"2021-06-27T15:48:00\", \"2021-06-27T15:49:00\", \"2021-06-27T15:50:00\", \"2021-06-27T15:51:00\", \"2021-06-27T15:52:00\", \"2021-06-27T15:53:00\", \"2021-06-27T15:54:00\", \"2021-06-27T15:55:00\", \"2021-06-27T15:56:00\", \"2021-06-27T15:57:00\", \"2021-06-27T15:58:00\", \"2021-06-27T15:59:00\", \"2021-06-27T16:00:00\", \"2021-06-27T16:01:00\", \"2021-06-27T16:02:00\", \"2021-06-27T16:03:00\", \"2021-06-27T16:04:00\", \"2021-06-27T16:05:00\", \"2021-06-27T16:06:00\", \"2021-06-27T16:07:00\", \"2021-06-27T16:08:00\", \"2021-06-27T16:09:00\", \"2021-06-27T16:10:00\", \"2021-06-27T16:11:00\", \"2021-06-27T16:12:00\", \"2021-06-27T16:13:00\", \"2021-06-27T16:14:00\", \"2021-06-27T16:15:00\", \"2021-06-27T16:16:00\", \"2021-06-27T16:17:00\", \"2021-06-27T16:18:00\", \"2021-06-27T16:19:00\", \"2021-06-27T16:20:00\", \"2021-06-27T16:21:00\", \"2021-06-27T16:22:00\", \"2021-06-27T16:23:00\", \"2021-06-27T16:24:00\", \"2021-06-27T16:25:00\", \"2021-06-27T16:26:00\", \"2021-06-27T16:27:00\", \"2021-06-27T16:28:00\", \"2021-06-27T16:29:00\", \"2021-06-27T16:30:00\", \"2021-06-27T16:31:00\", \"2021-06-27T16:32:00\", \"2021-06-27T16:33:00\", \"2021-06-27T16:34:00\", \"2021-06-27T16:35:00\", \"2021-06-27T16:36:00\", \"2021-06-27T16:37:00\", \"2021-06-27T16:38:00\", \"2021-06-27T16:39:00\", \"2021-06-27T16:40:00\", \"2021-06-27T16:41:00\", \"2021-06-27T16:42:00\", \"2021-06-27T16:43:00\", \"2021-06-27T16:44:00\", \"2021-06-27T16:45:00\", \"2021-06-27T16:46:00\", \"2021-06-27T16:47:00\", \"2021-06-27T16:48:00\", \"2021-06-27T16:49:00\", \"2021-06-27T16:50:00\", \"2021-06-27T16:51:00\", \"2021-06-27T16:52:00\", \"2021-06-27T16:53:00\", \"2021-06-27T16:54:00\", \"2021-06-27T16:55:00\", \"2021-06-27T16:56:00\", \"2021-06-27T16:57:00\", \"2021-06-27T16:58:00\", \"2021-06-27T16:59:00\", \"2021-06-27T17:00:00\", \"2021-06-27T17:01:00\", \"2021-06-27T17:02:00\", \"2021-06-27T17:03:00\", \"2021-06-27T17:04:00\", \"2021-06-27T17:05:00\", \"2021-06-27T17:06:00\", \"2021-06-27T17:07:00\", \"2021-06-27T17:08:00\", \"2021-06-27T17:09:00\", \"2021-06-27T17:10:00\", \"2021-06-27T17:11:00\", \"2021-06-27T17:12:00\", \"2021-06-27T17:13:00\", \"2021-06-27T17:14:00\", \"2021-06-27T17:15:00\", \"2021-06-27T17:16:00\", \"2021-06-27T17:17:00\", \"2021-06-27T17:18:00\", \"2021-06-27T17:19:00\", \"2021-06-27T17:20:00\", \"2021-06-27T17:21:00\", \"2021-06-27T17:22:00\", \"2021-06-27T17:23:00\", \"2021-06-27T17:24:00\", \"2021-06-27T17:25:00\", \"2021-06-27T17:26:00\", \"2021-06-27T17:27:00\", \"2021-06-27T17:28:00\", \"2021-06-27T17:29:00\", \"2021-06-27T17:30:00\", \"2021-06-27T17:31:00\", \"2021-06-27T17:32:00\", \"2021-06-27T17:33:00\", \"2021-06-27T17:34:00\", \"2021-06-27T17:35:00\", \"2021-06-27T17:36:00\", \"2021-06-27T17:37:00\", \"2021-06-27T17:38:00\", \"2021-06-27T17:39:00\", \"2021-06-27T17:40:00\", \"2021-06-27T17:41:00\", \"2021-06-27T17:42:00\", \"2021-06-27T17:43:00\", \"2021-06-27T17:44:00\", \"2021-06-27T17:45:00\", \"2021-06-27T17:46:00\", \"2021-06-27T17:47:00\", \"2021-06-27T17:48:00\", \"2021-06-27T17:49:00\", \"2021-06-27T17:50:00\", \"2021-06-27T17:51:00\", \"2021-06-27T17:52:00\", \"2021-06-27T17:53:00\", \"2021-06-27T17:54:00\", \"2021-06-27T17:55:00\", \"2021-06-27T17:56:00\", \"2021-06-27T17:57:00\", \"2021-06-27T17:58:00\", \"2021-06-27T17:59:00\", \"2021-06-27T18:00:00\", \"2021-06-27T18:01:00\", \"2021-06-27T18:02:00\", \"2021-06-27T18:03:00\", \"2021-06-27T18:04:00\", \"2021-06-27T18:05:00\", \"2021-06-27T18:06:00\", \"2021-06-27T18:07:00\", \"2021-06-27T18:08:00\", \"2021-06-27T18:09:00\", \"2021-06-27T18:10:00\", \"2021-06-27T18:11:00\", \"2021-06-27T18:12:00\", \"2021-06-27T18:13:00\", \"2021-06-27T18:14:00\", \"2021-06-27T18:15:00\", \"2021-06-27T18:16:00\", \"2021-06-27T18:17:00\", \"2021-06-27T18:18:00\", \"2021-06-27T18:19:00\", \"2021-06-27T18:20:00\", \"2021-06-27T18:21:00\", \"2021-06-27T18:22:00\", \"2021-06-27T18:23:00\", \"2021-06-27T18:24:00\", \"2021-06-27T18:25:00\", \"2021-06-27T18:26:00\", \"2021-06-27T18:27:00\", \"2021-06-27T18:28:00\", \"2021-06-27T18:29:00\", \"2021-06-27T18:30:00\", \"2021-06-27T18:31:00\", \"2021-06-27T18:32:00\", \"2021-06-27T18:33:00\", \"2021-06-27T18:34:00\", \"2021-06-27T18:35:00\", \"2021-06-27T18:36:00\", \"2021-06-27T18:37:00\", \"2021-06-27T18:38:00\", \"2021-06-27T18:39:00\", \"2021-06-27T18:40:00\", \"2021-06-27T18:41:00\", \"2021-06-27T18:42:00\", \"2021-06-27T18:43:00\", \"2021-06-27T18:44:00\", \"2021-06-27T18:45:00\", \"2021-06-27T18:46:00\", \"2021-06-27T18:47:00\", \"2021-06-27T18:48:00\", \"2021-06-27T18:49:00\", \"2021-06-27T18:50:00\", \"2021-06-27T18:51:00\", \"2021-06-27T18:52:00\", \"2021-06-27T18:53:00\", \"2021-06-27T18:54:00\", \"2021-06-27T18:55:00\", \"2021-06-27T18:56:00\", \"2021-06-27T18:57:00\", \"2021-06-27T18:58:00\", \"2021-06-27T18:59:00\", \"2021-06-27T19:00:00\", \"2021-06-27T19:01:00\", \"2021-06-27T19:02:00\", \"2021-06-27T19:03:00\", \"2021-06-27T19:04:00\", \"2021-06-27T19:05:00\", \"2021-06-27T19:06:00\", \"2021-06-27T19:07:00\", \"2021-06-27T19:08:00\", \"2021-06-27T19:09:00\", \"2021-06-27T19:10:00\", \"2021-06-27T19:11:00\", \"2021-06-27T19:12:00\", \"2021-06-27T19:13:00\", \"2021-06-27T19:14:00\", \"2021-06-27T19:15:00\", \"2021-06-27T19:16:00\", \"2021-06-27T19:17:00\", \"2021-06-27T19:18:00\", \"2021-06-27T19:19:00\", \"2021-06-27T19:20:00\", \"2021-06-27T19:21:00\", \"2021-06-27T19:22:00\", \"2021-06-27T19:23:00\", \"2021-06-27T19:24:00\", \"2021-06-27T19:25:00\", \"2021-06-27T19:26:00\", \"2021-06-27T19:27:00\", \"2021-06-27T19:28:00\", \"2021-06-27T19:29:00\", \"2021-06-27T19:30:00\", \"2021-06-27T19:31:00\", \"2021-06-27T19:32:00\", \"2021-06-27T19:33:00\", \"2021-06-27T19:34:00\", \"2021-06-27T19:35:00\", \"2021-06-27T19:36:00\", \"2021-06-27T19:37:00\", \"2021-06-27T19:38:00\", \"2021-06-27T19:39:00\", \"2021-06-27T19:40:00\", \"2021-06-27T19:41:00\", \"2021-06-27T19:42:00\", \"2021-06-27T19:43:00\", \"2021-06-27T19:44:00\", \"2021-06-27T19:45:00\", \"2021-06-27T19:46:00\", \"2021-06-27T19:47:00\", \"2021-06-27T19:48:00\", \"2021-06-27T19:49:00\", \"2021-06-27T19:50:00\", \"2021-06-27T19:51:00\", \"2021-06-27T19:52:00\", \"2021-06-27T19:53:00\", \"2021-06-27T19:54:00\", \"2021-06-27T19:55:00\", \"2021-06-27T19:56:00\", \"2021-06-27T19:57:00\", \"2021-06-27T19:58:00\", \"2021-06-27T19:59:00\", \"2021-06-27T20:00:00\", \"2021-06-27T20:01:00\", \"2021-06-27T20:02:00\", \"2021-06-27T20:03:00\", \"2021-06-27T20:04:00\", \"2021-06-27T20:05:00\", \"2021-06-27T20:06:00\", \"2021-06-27T20:07:00\", \"2021-06-27T20:08:00\", \"2021-06-27T20:09:00\", \"2021-06-27T20:10:00\", \"2021-06-27T20:11:00\", \"2021-06-27T20:12:00\", \"2021-06-27T20:13:00\", \"2021-06-27T20:14:00\", \"2021-06-27T20:15:00\", \"2021-06-27T20:16:00\", \"2021-06-27T20:17:00\", \"2021-06-27T20:18:00\", \"2021-06-27T20:19:00\", \"2021-06-27T20:20:00\", \"2021-06-27T20:21:00\", \"2021-06-27T20:22:00\", \"2021-06-27T20:23:00\", \"2021-06-27T20:24:00\", \"2021-06-27T20:25:00\", \"2021-06-27T20:26:00\", \"2021-06-27T20:27:00\", \"2021-06-27T20:28:00\", \"2021-06-27T20:29:00\", \"2021-06-27T20:30:00\", \"2021-06-27T20:31:00\", \"2021-06-27T20:32:00\", \"2021-06-27T20:33:00\", \"2021-06-27T20:34:00\", \"2021-06-27T20:35:00\", \"2021-06-27T20:36:00\", \"2021-06-27T20:37:00\", \"2021-06-27T20:38:00\", \"2021-06-27T20:39:00\", \"2021-06-27T20:40:00\", \"2021-06-27T20:41:00\", \"2021-06-27T20:42:00\", \"2021-06-27T20:43:00\", \"2021-06-27T20:44:00\", \"2021-06-27T20:45:00\", \"2021-06-27T20:46:00\", \"2021-06-27T20:47:00\", \"2021-06-27T20:48:00\", \"2021-06-27T20:49:00\", \"2021-06-27T20:50:00\", \"2021-06-27T20:51:00\", \"2021-06-27T20:52:00\", \"2021-06-27T20:53:00\", \"2021-06-27T20:54:00\", \"2021-06-27T20:55:00\", \"2021-06-27T20:56:00\", \"2021-06-27T20:57:00\", \"2021-06-27T20:58:00\", \"2021-06-27T20:59:00\", \"2021-06-27T21:00:00\", \"2021-06-27T21:01:00\", \"2021-06-27T21:02:00\", \"2021-06-27T21:03:00\", \"2021-06-27T21:04:00\", \"2021-06-27T21:05:00\", \"2021-06-27T21:06:00\", \"2021-06-27T21:07:00\", \"2021-06-27T21:08:00\", \"2021-06-27T21:09:00\", \"2021-06-27T21:10:00\", \"2021-06-27T21:11:00\", \"2021-06-27T21:12:00\", \"2021-06-27T21:13:00\", \"2021-06-27T21:14:00\", \"2021-06-27T21:15:00\", \"2021-06-27T21:16:00\", \"2021-06-27T21:17:00\", \"2021-06-27T21:18:00\", \"2021-06-27T21:19:00\", \"2021-06-27T21:20:00\", \"2021-06-27T21:21:00\", \"2021-06-27T21:22:00\", \"2021-06-27T21:23:00\", \"2021-06-27T21:24:00\", \"2021-06-27T21:25:00\", \"2021-06-27T21:26:00\", \"2021-06-27T21:27:00\", \"2021-06-27T21:28:00\", \"2021-06-27T21:29:00\", \"2021-06-27T21:30:00\", \"2021-06-27T21:31:00\", \"2021-06-27T21:32:00\", \"2021-06-27T21:33:00\", \"2021-06-27T21:34:00\", \"2021-06-27T21:35:00\", \"2021-06-27T21:36:00\", \"2021-06-27T21:37:00\", \"2021-06-27T21:38:00\", \"2021-06-27T21:39:00\", \"2021-06-27T21:40:00\", \"2021-06-27T21:41:00\", \"2021-06-27T21:42:00\", \"2021-06-27T21:43:00\", \"2021-06-27T21:44:00\", \"2021-06-27T21:45:00\", \"2021-06-27T21:46:00\", \"2021-06-27T21:47:00\", \"2021-06-27T21:48:00\", \"2021-06-27T21:49:00\", \"2021-06-27T21:50:00\", \"2021-06-27T21:51:00\", \"2021-06-27T21:52:00\", \"2021-06-27T21:53:00\", \"2021-06-27T21:54:00\", \"2021-06-27T21:55:00\", \"2021-06-27T21:56:00\", \"2021-06-27T21:57:00\", \"2021-06-27T21:58:00\", \"2021-06-27T21:59:00\", \"2021-06-27T22:00:00\", \"2021-06-27T22:01:00\", \"2021-06-27T22:02:00\", \"2021-06-27T22:03:00\", \"2021-06-27T22:04:00\", \"2021-06-27T22:05:00\", \"2021-06-27T22:06:00\", \"2021-06-27T22:07:00\", \"2021-06-27T22:08:00\", \"2021-06-27T22:09:00\", \"2021-06-27T22:10:00\", \"2021-06-27T22:11:00\", \"2021-06-27T22:12:00\", \"2021-06-27T22:13:00\", \"2021-06-27T22:14:00\", \"2021-06-27T22:15:00\", \"2021-06-27T22:16:00\", \"2021-06-27T22:17:00\", \"2021-06-27T22:18:00\", \"2021-06-27T22:19:00\", \"2021-06-27T22:20:00\", \"2021-06-27T22:21:00\", \"2021-06-27T22:22:00\", \"2021-06-27T22:23:00\", \"2021-06-27T22:24:00\", \"2021-06-27T22:25:00\", \"2021-06-27T22:26:00\", \"2021-06-27T22:27:00\", \"2021-06-27T22:28:00\", \"2021-06-27T22:29:00\", \"2021-06-27T22:30:00\", \"2021-06-27T22:31:00\", \"2021-06-27T22:32:00\", \"2021-06-27T22:33:00\", \"2021-06-27T22:34:00\", \"2021-06-27T22:35:00\", \"2021-06-27T22:36:00\", \"2021-06-27T22:37:00\", \"2021-06-27T22:38:00\", \"2021-06-27T22:39:00\", \"2021-06-27T22:40:00\", \"2021-06-27T22:42:00\", \"2021-06-27T22:43:00\", \"2021-06-27T22:44:00\", \"2021-06-27T22:45:00\", \"2021-06-27T22:46:00\", \"2021-06-27T22:47:00\", \"2021-06-27T22:48:00\", \"2021-06-27T22:49:00\", \"2021-06-27T22:50:00\", \"2021-06-27T22:51:00\", \"2021-06-27T22:52:00\", \"2021-06-27T22:53:00\", \"2021-06-27T22:54:00\", \"2021-06-27T22:55:00\", \"2021-06-27T22:56:00\", \"2021-06-27T22:57:00\", \"2021-06-27T22:58:00\", \"2021-06-27T22:59:00\", \"2021-06-27T23:00:00\", \"2021-06-27T23:01:00\", \"2021-06-27T23:02:00\", \"2021-06-27T23:03:00\", \"2021-06-27T23:04:00\", \"2021-06-27T23:05:00\", \"2021-06-27T23:06:00\", \"2021-06-27T23:07:00\", \"2021-06-27T23:08:00\", \"2021-06-27T23:09:00\", \"2021-06-27T23:10:00\", \"2021-06-27T23:11:00\", \"2021-06-27T23:12:00\", \"2021-06-27T23:13:00\", \"2021-06-27T23:14:00\", \"2021-06-27T23:15:00\", \"2021-06-27T23:16:00\", \"2021-06-27T23:17:00\", \"2021-06-27T23:18:00\", \"2021-06-27T23:19:00\", \"2021-06-27T23:20:00\", \"2021-06-27T23:21:00\", \"2021-06-27T23:22:00\", \"2021-06-27T23:23:00\", \"2021-06-27T23:24:00\", \"2021-06-27T23:25:00\", \"2021-06-27T23:26:00\", \"2021-06-27T23:27:00\", \"2021-06-27T23:28:00\", \"2021-06-27T23:29:00\", \"2021-06-27T23:30:00\", \"2021-06-27T23:31:00\", \"2021-06-27T23:32:00\", \"2021-06-27T23:33:00\", \"2021-06-27T23:34:00\", \"2021-06-27T23:35:00\", \"2021-06-27T23:36:00\", \"2021-06-27T23:37:00\", \"2021-06-27T23:38:00\", \"2021-06-27T23:39:00\", \"2021-06-27T23:40:00\", \"2021-06-27T23:41:00\", \"2021-06-27T23:42:00\", \"2021-06-27T23:43:00\", \"2021-06-27T23:44:00\", \"2021-06-27T23:45:00\", \"2021-06-27T23:46:00\", \"2021-06-27T23:47:00\", \"2021-06-27T23:48:00\", \"2021-06-27T23:49:00\", \"2021-06-27T23:50:00\", \"2021-06-27T23:51:00\", \"2021-06-27T23:52:00\", \"2021-06-27T23:53:00\", \"2021-06-27T23:54:00\", \"2021-06-27T23:55:00\", \"2021-06-27T23:56:00\", \"2021-06-27T23:57:00\", \"2021-06-27T23:58:00\", \"2021-06-27T23:59:00\"], \"xaxis\": \"x\", \"y\": [8, 4, 7, 6, 3, 14, 11, 5, 6, 5, 12, 5, 9, 6, 3, 10, 10, 5, 4, 6, 12, 6, 6, 4, 8, 9, 8, 7, 5, 5, 7, 7, 1, 7, 2, 5, 4, 5, 4, 9, 9, 8, 1, 3, 7, 5, 10, 6, 7, 8, 2, 5, 2, 4, 2, 9, 8, 4, 6, 6, 2, 7, 4, 7, 4, 9, 3, 4, 5, 4, 7, 6, 6, 4, 1, 6, 10, 2, 6, 4, 4, 4, 2, 7, 7, 10, 5, 6, 7, 6, 6, 3, 8, 8, 4, 7, 2, 7, 4, 2, 2, 2, 6, 4, 7, 8, 6, 5, 1, 4, 3, 4, 1, 4, 2, 5, 5, 5, 3, 5, 5, 3, 3, 4, 4, 4, 7, 1, 2, 7, 5, 2, 1, 2, 1, 5, 7, 2, 3, 4, 3, 4, 4, 2, 2, 3, 2, 2, 2, 3, 3, 1, 4, 1, 4, 3, 4, 6, 5, 7, 7, 6, 4, 5, 5, 9, 2, 3, 4, 3, 2, 1, 2, 1, 2, 1, 1, 2, 2, 1, 11, 2, 1, 3, 2, 2, 5, 2, 6, 2, 4, 4, 4, 5, 1, 4, 1, 1, 1, 2, 2, 1, 1, 1, 3, 3, 2, 3, 2, 4, 1, 4, 3, 4, 3, 6, 2, 3, 4, 1, 1, 2, 4, 1, 1, 1, 3, 2, 2, 7, 2, 4, 1, 2, 3, 2, 3, 1, 2, 1, 2, 3, 1, 4, 5, 1, 2, 1, 1, 2, 4, 1, 2, 3, 2, 3, 2, 2, 2, 3, 1, 1, 3, 4, 1, 1, 5, 3, 1, 2, 2, 2, 1, 2, 3, 6, 2, 2, 2, 5, 4, 2, 5, 2, 2, 4, 1, 3, 7, 3, 4, 4, 2, 3, 3, 7, 3, 2, 1, 2, 4, 7, 2, 1, 5, 2, 7, 1, 6, 3, 2, 2, 3, 7, 5, 4, 2, 3, 1, 2, 3, 4, 4, 2, 2, 3, 5, 5, 4, 3, 3, 5, 2, 2, 3, 2, 1, 4, 1, 5, 5, 2, 7, 4, 5, 4, 8, 5, 5, 4, 3, 3, 5, 6, 5, 5, 3, 8, 7, 5, 4, 7, 7, 9, 7, 10, 11, 9, 5, 5, 4, 5, 7, 5, 2, 3, 7, 8, 5, 5, 8, 3, 3, 6, 4, 5, 2, 5, 10, 11, 2, 4, 2, 3, 7, 6, 3, 4, 7, 2, 2, 4, 4, 4, 5, 3, 9, 2, 3, 3, 6, 3, 2, 3, 7, 4, 3, 6, 9, 2, 11, 8, 8, 4, 4, 4, 6, 6, 3, 7, 8, 4, 10, 2, 3, 7, 6, 6, 2, 3, 4, 8, 9, 6, 5, 5, 6, 7, 6, 2, 6, 7, 5, 5, 7, 7, 6, 5, 9, 6, 11, 3, 4, 4, 10, 4, 9, 7, 10, 10, 8, 5, 10, 11, 8, 3, 8, 10, 11, 6, 12, 7, 7, 7, 15, 6, 6, 4, 12, 8, 10, 8, 8, 6, 11, 6, 11, 9, 9, 9, 14, 6, 10, 9, 13, 4, 11, 13, 11, 6, 7, 10, 8, 15, 9, 7, 7, 7, 8, 8, 10, 9, 14, 3, 10, 5, 6, 9, 8, 7, 14, 6, 17, 6, 12, 8, 8, 13, 9, 8, 15, 9, 8, 5, 12, 5, 12, 13, 17, 9, 10, 6, 10, 9, 8, 13, 14, 2, 13, 12, 13, 9, 20, 3, 18, 17, 12, 12, 7, 8, 20, 7, 22, 9, 10, 14, 8, 14, 24, 17, 10, 5, 13, 12, 17, 15, 15, 13, 14, 9, 16, 11, 8, 12, 18, 7, 12, 12, 19, 6, 15, 13, 15, 7, 16, 12, 6, 14, 12, 14, 8, 5, 11, 21, 10, 15, 18, 14, 11, 17, 17, 9, 15, 13, 12, 12, 15, 23, 22, 12, 16, 19, 13, 17, 17, 12, 17, 19, 14, 17, 13, 13, 20, 16, 17, 19, 16, 31, 14, 12, 22, 16, 16, 19, 14, 17, 16, 14, 12, 14, 22, 10, 13, 12, 21, 25, 16, 21, 20, 16, 19, 17, 17, 17, 19, 30, 13, 17, 15, 25, 17, 16, 18, 20, 18, 22, 15, 15, 15, 27, 18, 20, 16, 21, 15, 14, 19, 20, 19, 24, 20, 21, 21, 17, 25, 8, 19, 16, 15, 16, 23, 20, 19, 16, 22, 20, 25, 14, 25, 15, 17, 23, 20, 12, 24, 15, 9, 19, 12, 17, 15, 19, 19, 20, 19, 14, 11, 26, 12, 18, 16, 10, 19, 26, 14, 24, 12, 19, 8, 20, 14, 22, 19, 23, 24, 6, 18, 8, 28, 10, 23, 10, 17, 19, 27, 19, 18, 21, 17, 18, 24, 30, 18, 18, 17, 18, 24, 17, 16, 13, 13, 23, 23, 14, 22, 23, 19, 19, 17, 25, 18, 25, 22, 31, 16, 20, 19, 20, 20, 20, 23, 12, 24, 11, 12, 16, 25, 9, 20, 19, 19, 13, 16, 11, 21, 28, 21, 11, 26, 19, 24, 15, 14, 15, 24, 18, 9, 23, 21, 23, 21, 20, 16, 20, 24, 16, 18, 18, 17, 27, 17, 21, 13, 22, 25, 15, 21, 22, 12, 27, 13, 22, 20, 20, 17, 23, 25, 12, 33, 21, 26, 17, 22, 18, 19, 23, 19, 16, 13, 22, 24, 21, 27, 16, 15, 19, 14, 23, 20, 23, 16, 13, 27, 21, 21, 15, 19, 18, 17, 28, 15, 18, 20, 23, 18, 19, 22, 13, 21, 13, 18, 16, 19, 29, 21, 12, 18, 25, 16, 12, 17, 17, 16, 20, 18, 16, 11, 20, 12, 23, 28, 17, 18, 14, 24, 23, 16, 22, 22, 19, 27, 19, 9, 24, 13, 23, 15, 18, 25, 16, 21, 16, 7, 12, 19, 16, 15, 21, 22, 24, 15, 16, 23, 26, 17, 26, 23, 16, 19, 23, 7, 18, 14, 23, 16, 30, 9, 28, 17, 13, 11, 26, 14, 18, 9, 24, 10, 18, 13, 21, 9, 18, 10, 17, 15, 22, 15, 18, 17, 15, 14, 11, 16, 24, 12, 19, 7, 24, 12, 20, 23, 22, 12, 18, 11, 18, 19, 20, 20, 19, 12, 21, 14, 20, 13, 23, 21, 22, 11, 10, 20, 16, 13, 18, 15, 24, 21, 18, 8, 19, 20, 26, 9, 31, 9, 22, 11, 21, 13, 14, 12, 19, 25, 13, 12, 19, 16, 18, 9, 22, 9, 23, 20, 20, 10, 27, 18, 18, 15, 19, 17, 15, 12, 15, 21, 17, 10, 24, 19, 19, 13, 18, 17, 13, 7, 27, 12, 22, 12, 24, 8, 17, 15, 22, 16, 13, 18, 27, 6, 13, 13, 15, 20, 15, 17, 11, 19, 16, 23, 21, 21, 22, 14, 21, 13, 15, 20, 16, 10, 15, 14, 18, 11, 15, 13, 20, 21, 10, 15, 8, 16, 17, 21, 8, 13, 12, 12, 10, 22, 17, 17, 11, 24, 17, 19, 20, 9, 15, 19, 21, 19, 13, 23, 14, 14, 16, 19, 13, 18, 15, 16, 13, 23, 22, 7, 11, 13, 7, 18, 16, 17, 9, 19, 17, 19, 29, 17, 17, 14, 21, 14, 12, 12, 19, 23, 13, 15, 23, 12, 23, 19, 20, 17, 21, 13, 17, 15, 12, 15, 14, 13, 19, 22, 14, 14, 15, 20, 18, 21, 17, 19, 16, 18, 14, 21, 18, 9, 23, 11, 21, 9, 7, 13, 25, 13, 13, 8, 19, 13, 7, 12, 18, 13, 12, 17, 13, 12, 15, 11, 10, 20, 11, 16, 12, 27, 12, 13, 5, 15, 15, 14, 7, 11, 8, 12, 5, 18, 9, 14, 7, 17, 12, 11, 10, 13, 12, 17, 12, 18, 7, 15, 11, 12, 10, 10, 14, 10, 10, 11, 6, 14, 9, 15, 14, 9, 12, 16, 11, 5, 7, 12, 6, 16, 6, 6, 14, 16, 5, 17, 9, 13, 11, 10, 3, 14, 9, 15, 9, 17, 18, 15, 17, 12, 4, 9, 4, 11, 12, 8, 7, 10, 7, 10, 8, 17, 7, 8, 13, 12, 10, 10, 4, 10, 11, 5, 9, 14, 3, 8, 3, 7, 5, 14, 6, 2, 3, 12, 4, 7, 10, 4, 8, 7, 3, 1, 4, 5, 4, 3, 2, 2, 2, 8, 5, 4, 7, 4, 3, 8, 6, 3, 6, 3, 4, 5, 7, 6, 5, 2, 6, 1, 11, 7, 6, 5, 4, 3, 9, 6, 5, 8, 6, 6, 2, 4, 6, 4, 4, 7, 2, 8, 4, 4, 4, 3, 3, 4, 4, 7, 8, 3, 6, 1, 6, 2, 3, 5, 2, 4, 4, 4, 4, 3, 2, 1, 3, 4, 2, 1], \"yaxis\": \"y\"}],\n",
              "                        {\"legend\": {\"tracegroupgap\": 0}, \"margin\": {\"t\": 60}, \"template\": {\"data\": {\"bar\": [{\"error_x\": {\"color\": \"#2a3f5f\"}, \"error_y\": {\"color\": \"#2a3f5f\"}, \"marker\": {\"line\": {\"color\": \"#E5ECF6\", \"width\": 0.5}}, \"type\": \"bar\"}], \"barpolar\": [{\"marker\": {\"line\": {\"color\": \"#E5ECF6\", \"width\": 0.5}}, \"type\": \"barpolar\"}], \"carpet\": [{\"aaxis\": {\"endlinecolor\": \"#2a3f5f\", \"gridcolor\": \"white\", \"linecolor\": \"white\", \"minorgridcolor\": \"white\", \"startlinecolor\": \"#2a3f5f\"}, \"baxis\": {\"endlinecolor\": \"#2a3f5f\", \"gridcolor\": \"white\", \"linecolor\": \"white\", \"minorgridcolor\": \"white\", \"startlinecolor\": \"#2a3f5f\"}, \"type\": \"carpet\"}], \"choropleth\": [{\"colorbar\": {\"outlinewidth\": 0, \"ticks\": \"\"}, \"type\": \"choropleth\"}], \"contour\": [{\"colorbar\": {\"outlinewidth\": 0, \"ticks\": \"\"}, \"colorscale\": [[0.0, \"#0d0887\"], [0.1111111111111111, \"#46039f\"], [0.2222222222222222, \"#7201a8\"], [0.3333333333333333, \"#9c179e\"], [0.4444444444444444, \"#bd3786\"], [0.5555555555555556, \"#d8576b\"], [0.6666666666666666, \"#ed7953\"], [0.7777777777777778, \"#fb9f3a\"], [0.8888888888888888, \"#fdca26\"], [1.0, \"#f0f921\"]], \"type\": \"contour\"}], \"contourcarpet\": [{\"colorbar\": {\"outlinewidth\": 0, \"ticks\": \"\"}, \"type\": \"contourcarpet\"}], \"heatmap\": [{\"colorbar\": {\"outlinewidth\": 0, \"ticks\": \"\"}, \"colorscale\": [[0.0, \"#0d0887\"], [0.1111111111111111, \"#46039f\"], [0.2222222222222222, \"#7201a8\"], [0.3333333333333333, \"#9c179e\"], [0.4444444444444444, \"#bd3786\"], [0.5555555555555556, \"#d8576b\"], [0.6666666666666666, \"#ed7953\"], [0.7777777777777778, \"#fb9f3a\"], [0.8888888888888888, \"#fdca26\"], [1.0, \"#f0f921\"]], \"type\": \"heatmap\"}], \"heatmapgl\": [{\"colorbar\": {\"outlinewidth\": 0, \"ticks\": \"\"}, \"colorscale\": [[0.0, \"#0d0887\"], [0.1111111111111111, \"#46039f\"], [0.2222222222222222, \"#7201a8\"], [0.3333333333333333, \"#9c179e\"], [0.4444444444444444, \"#bd3786\"], [0.5555555555555556, \"#d8576b\"], [0.6666666666666666, \"#ed7953\"], [0.7777777777777778, \"#fb9f3a\"], [0.8888888888888888, \"#fdca26\"], [1.0, \"#f0f921\"]], \"type\": \"heatmapgl\"}], \"histogram\": [{\"marker\": {\"colorbar\": {\"outlinewidth\": 0, \"ticks\": \"\"}}, \"type\": \"histogram\"}], \"histogram2d\": [{\"colorbar\": {\"outlinewidth\": 0, \"ticks\": \"\"}, \"colorscale\": [[0.0, \"#0d0887\"], [0.1111111111111111, \"#46039f\"], [0.2222222222222222, \"#7201a8\"], [0.3333333333333333, \"#9c179e\"], [0.4444444444444444, \"#bd3786\"], [0.5555555555555556, \"#d8576b\"], [0.6666666666666666, \"#ed7953\"], [0.7777777777777778, \"#fb9f3a\"], [0.8888888888888888, \"#fdca26\"], [1.0, \"#f0f921\"]], \"type\": \"histogram2d\"}], \"histogram2dcontour\": [{\"colorbar\": {\"outlinewidth\": 0, \"ticks\": \"\"}, \"colorscale\": [[0.0, \"#0d0887\"], [0.1111111111111111, \"#46039f\"], [0.2222222222222222, \"#7201a8\"], [0.3333333333333333, \"#9c179e\"], [0.4444444444444444, \"#bd3786\"], [0.5555555555555556, \"#d8576b\"], [0.6666666666666666, \"#ed7953\"], [0.7777777777777778, \"#fb9f3a\"], [0.8888888888888888, \"#fdca26\"], [1.0, \"#f0f921\"]], \"type\": \"histogram2dcontour\"}], \"mesh3d\": [{\"colorbar\": {\"outlinewidth\": 0, \"ticks\": \"\"}, \"type\": \"mesh3d\"}], \"parcoords\": [{\"line\": {\"colorbar\": {\"outlinewidth\": 0, \"ticks\": \"\"}}, \"type\": \"parcoords\"}], \"pie\": [{\"automargin\": true, \"type\": \"pie\"}], \"scatter\": [{\"marker\": {\"colorbar\": {\"outlinewidth\": 0, \"ticks\": \"\"}}, \"type\": \"scatter\"}], \"scatter3d\": [{\"line\": {\"colorbar\": {\"outlinewidth\": 0, \"ticks\": \"\"}}, \"marker\": {\"colorbar\": {\"outlinewidth\": 0, \"ticks\": \"\"}}, \"type\": \"scatter3d\"}], \"scattercarpet\": [{\"marker\": {\"colorbar\": {\"outlinewidth\": 0, \"ticks\": \"\"}}, \"type\": \"scattercarpet\"}], \"scattergeo\": [{\"marker\": {\"colorbar\": {\"outlinewidth\": 0, \"ticks\": \"\"}}, \"type\": \"scattergeo\"}], \"scattergl\": [{\"marker\": {\"colorbar\": {\"outlinewidth\": 0, \"ticks\": \"\"}}, \"type\": \"scattergl\"}], \"scattermapbox\": [{\"marker\": {\"colorbar\": {\"outlinewidth\": 0, \"ticks\": \"\"}}, \"type\": \"scattermapbox\"}], \"scatterpolar\": [{\"marker\": {\"colorbar\": {\"outlinewidth\": 0, \"ticks\": \"\"}}, \"type\": \"scatterpolar\"}], \"scatterpolargl\": [{\"marker\": {\"colorbar\": {\"outlinewidth\": 0, \"ticks\": \"\"}}, \"type\": \"scatterpolargl\"}], \"scatterternary\": [{\"marker\": {\"colorbar\": {\"outlinewidth\": 0, \"ticks\": \"\"}}, \"type\": \"scatterternary\"}], \"surface\": [{\"colorbar\": {\"outlinewidth\": 0, \"ticks\": \"\"}, \"colorscale\": [[0.0, \"#0d0887\"], [0.1111111111111111, \"#46039f\"], [0.2222222222222222, \"#7201a8\"], [0.3333333333333333, \"#9c179e\"], [0.4444444444444444, \"#bd3786\"], [0.5555555555555556, \"#d8576b\"], [0.6666666666666666, \"#ed7953\"], [0.7777777777777778, \"#fb9f3a\"], [0.8888888888888888, \"#fdca26\"], [1.0, \"#f0f921\"]], \"type\": \"surface\"}], \"table\": [{\"cells\": {\"fill\": {\"color\": \"#EBF0F8\"}, \"line\": {\"color\": \"white\"}}, \"header\": {\"fill\": {\"color\": \"#C8D4E3\"}, \"line\": {\"color\": \"white\"}}, \"type\": \"table\"}]}, \"layout\": {\"annotationdefaults\": {\"arrowcolor\": \"#2a3f5f\", \"arrowhead\": 0, \"arrowwidth\": 1}, \"coloraxis\": {\"colorbar\": {\"outlinewidth\": 0, \"ticks\": \"\"}}, \"colorscale\": {\"diverging\": [[0, \"#8e0152\"], [0.1, \"#c51b7d\"], [0.2, \"#de77ae\"], [0.3, \"#f1b6da\"], [0.4, \"#fde0ef\"], [0.5, \"#f7f7f7\"], [0.6, \"#e6f5d0\"], [0.7, \"#b8e186\"], [0.8, \"#7fbc41\"], [0.9, \"#4d9221\"], [1, \"#276419\"]], \"sequential\": [[0.0, \"#0d0887\"], [0.1111111111111111, \"#46039f\"], [0.2222222222222222, \"#7201a8\"], [0.3333333333333333, \"#9c179e\"], [0.4444444444444444, \"#bd3786\"], [0.5555555555555556, \"#d8576b\"], [0.6666666666666666, \"#ed7953\"], [0.7777777777777778, \"#fb9f3a\"], [0.8888888888888888, \"#fdca26\"], [1.0, \"#f0f921\"]], \"sequentialminus\": [[0.0, \"#0d0887\"], [0.1111111111111111, \"#46039f\"], [0.2222222222222222, \"#7201a8\"], [0.3333333333333333, \"#9c179e\"], [0.4444444444444444, \"#bd3786\"], [0.5555555555555556, \"#d8576b\"], [0.6666666666666666, \"#ed7953\"], [0.7777777777777778, \"#fb9f3a\"], [0.8888888888888888, \"#fdca26\"], [1.0, \"#f0f921\"]]}, \"colorway\": [\"#636efa\", \"#EF553B\", \"#00cc96\", \"#ab63fa\", \"#FFA15A\", \"#19d3f3\", \"#FF6692\", \"#B6E880\", \"#FF97FF\", \"#FECB52\"], \"font\": {\"color\": \"#2a3f5f\"}, \"geo\": {\"bgcolor\": \"white\", \"lakecolor\": \"white\", \"landcolor\": \"#E5ECF6\", \"showlakes\": true, \"showland\": true, \"subunitcolor\": \"white\"}, \"hoverlabel\": {\"align\": \"left\"}, \"hovermode\": \"closest\", \"mapbox\": {\"style\": \"light\"}, \"paper_bgcolor\": \"white\", \"plot_bgcolor\": \"#E5ECF6\", \"polar\": {\"angularaxis\": {\"gridcolor\": \"white\", \"linecolor\": \"white\", \"ticks\": \"\"}, \"bgcolor\": \"#E5ECF6\", \"radialaxis\": {\"gridcolor\": \"white\", \"linecolor\": \"white\", \"ticks\": \"\"}}, \"scene\": {\"xaxis\": {\"backgroundcolor\": \"#E5ECF6\", \"gridcolor\": \"white\", \"gridwidth\": 2, \"linecolor\": \"white\", \"showbackground\": true, \"ticks\": \"\", \"zerolinecolor\": \"white\"}, \"yaxis\": {\"backgroundcolor\": \"#E5ECF6\", \"gridcolor\": \"white\", \"gridwidth\": 2, \"linecolor\": \"white\", \"showbackground\": true, \"ticks\": \"\", \"zerolinecolor\": \"white\"}, \"zaxis\": {\"backgroundcolor\": \"#E5ECF6\", \"gridcolor\": \"white\", \"gridwidth\": 2, \"linecolor\": \"white\", \"showbackground\": true, \"ticks\": \"\", \"zerolinecolor\": \"white\"}}, \"shapedefaults\": {\"line\": {\"color\": \"#2a3f5f\"}}, \"ternary\": {\"aaxis\": {\"gridcolor\": \"white\", \"linecolor\": \"white\", \"ticks\": \"\"}, \"baxis\": {\"gridcolor\": \"white\", \"linecolor\": \"white\", \"ticks\": \"\"}, \"bgcolor\": \"#E5ECF6\", \"caxis\": {\"gridcolor\": \"white\", \"linecolor\": \"white\", \"ticks\": \"\"}}, \"title\": {\"x\": 0.05}, \"xaxis\": {\"automargin\": true, \"gridcolor\": \"white\", \"linecolor\": \"white\", \"ticks\": \"\", \"title\": {\"standoff\": 15}, \"zerolinecolor\": \"white\", \"zerolinewidth\": 2}, \"yaxis\": {\"automargin\": true, \"gridcolor\": \"white\", \"linecolor\": \"white\", \"ticks\": \"\", \"title\": {\"standoff\": 15}, \"zerolinecolor\": \"white\", \"zerolinewidth\": 2}}}, \"xaxis\": {\"anchor\": \"y\", \"domain\": [0.0, 1.0], \"title\": {\"text\": \"timeStamp\"}}, \"yaxis\": {\"anchor\": \"x\", \"domain\": [0.0, 1.0], \"title\": {\"text\": \"qty\"}}},\n",
              "                        {\"responsive\": true}\n",
              "                    ).then(function(){\n",
              "                            \n",
              "var gd = document.getElementById('ffb5d836-22ed-45dd-a70d-1d0e3c476dbd');\n",
              "var x = new MutationObserver(function (mutations, observer) {{\n",
              "        var display = window.getComputedStyle(gd).display;\n",
              "        if (!display || display === 'none') {{\n",
              "            console.log([gd, 'removed!']);\n",
              "            Plotly.purge(gd);\n",
              "            observer.disconnect();\n",
              "        }}\n",
              "}});\n",
              "\n",
              "// Listen for the removal of the full notebook cells\n",
              "var notebookContainer = gd.closest('#notebook-container');\n",
              "if (notebookContainer) {{\n",
              "    x.observe(notebookContainer, {childList: true});\n",
              "}}\n",
              "\n",
              "// Listen for the clearing of the current output cell\n",
              "var outputEl = gd.closest('.output');\n",
              "if (outputEl) {{\n",
              "    x.observe(outputEl, {childList: true});\n",
              "}}\n",
              "\n",
              "                        })\n",
              "                };\n",
              "                \n",
              "            </script>\n",
              "        </div>\n",
              "</body>\n",
              "</html>"
            ]
          },
          "metadata": {
            "tags": []
          }
        }
      ]
    }
  ]
}